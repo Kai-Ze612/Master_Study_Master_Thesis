{
 "cells": [
  {
   "cell_type": "markdown",
   "id": "1b4fe746",
   "metadata": {},
   "source": [
    "## Setup environment\n",
    "```\n",
    "source setup_environment.sh\n",
    "```"
   ]
  },
  {
   "cell_type": "markdown",
   "id": "286e15e0",
   "metadata": {},
   "source": [
    "```\n",
    "# Master Thesis ROS2 Environment Setup\n",
    "export MASTER_THESIS_PATH=\"//media/kai/Kai_Backup/Master_Study/Master_Thesis/Master_Study_Master_Thesis\"\n",
    "export FRANKA_WS_PATH=\"$MASTER_THESIS_PATH/fr3_mujoco_ws\"\n",
    "\n",
    "## Activate conda environment\n",
    "source \"$HOME/anaconda3/etc/profile.d/conda.sh\"\n",
    "conda activate master_thesis\n",
    "\n",
    "# Source ROS2\n",
    "source /opt/ros/humble/setup.bash\n",
    "\n",
    "# Source workspace\n",
    "source \"$FRANKA_WS_PATH/install/setup.bash\"\n",
    "\n",
    "# MuJoCo environment\n",
    "export MUJOCO_PATH=/opt/mujoco\n",
    "export LD_LIBRARY_PATH=$LD_LIBRARY_PATH:/opt/mujoco/lib\n",
    "\n",
    "# Change to workspace directory\n",
    "cd \"$FRANKA_WS_PATH\"\n",
    "echo \"Environment Ready!\"\n",
    "echo \"Workspace: $FRANKA_WS_PATH\"\n",
    "```"
   ]
  },
  {
   "cell_type": "markdown",
   "id": "132804c3",
   "metadata": {},
   "source": [
    "## Create a package\n",
    "```\n",
    "./create_franka_phroject.sh\n",
    "```"
   ]
  },
  {
   "cell_type": "markdown",
   "id": "65fc79cf",
   "metadata": {},
   "source": [
    "#!/bin/bash\n",
    "```\n",
    "set -e  # Exit on any error\n",
    "\n",
    "echo \"Setting up Franka MuJoCo ROS2 Project for Master Thesis...\"\n",
    "\n",
    "# Define paths\n",
    "MASTER_THESIS_PATH=\"/media/kai/Kai_Backup/Master_Study/Master_Thesis/Master_Study_Master_Thesis\"\n",
    "FRANKA_WS_PATH=\"$MASTER_THESIS_PATH/package_name\"\n",
    "\n",
    "# Create workspace structure\n",
    "echo \"Creating workspace structure...\"\n",
    "mkdir -p $FRANKA_WS_PATH/src\n",
    "cd $FRANKA_WS_PATH/src\n",
    "\n",
    "# Source ROS2\n",
    "source /opt/ros/humble/setup.bash\n",
    "\n",
    "# Create package\n",
    "## Modify here if want to use CPP\n",
    "echo \"Creating ROS2 package...\"\n",
    "ros2 pkg create --build-type ament_python franka_mujoco_controller \\\n",
    "  --dependencies rclpy sensor_msgs std_msgs geometry_msgs\n",
    "\n",
    "# Create additional directories\n",
    "cd franka_mujoco_controller\n",
    "mkdir -p launch config models/meshes\n",
    "\n",
    "# Make Python file executable\n",
    "chmod +x franka_mujoco_controller/__init__.py\n",
    "\n",
    "echo \" Project structure created successfully!\"\n",
    "```"
   ]
  }
 ],
 "metadata": {
  "kernelspec": {
   "display_name": "master_thesis",
   "language": "python",
   "name": "python3"
  },
  "language_info": {
   "name": "python",
   "version": "3.10.16"
  }
 },
 "nbformat": 4,
 "nbformat_minor": 5
}
