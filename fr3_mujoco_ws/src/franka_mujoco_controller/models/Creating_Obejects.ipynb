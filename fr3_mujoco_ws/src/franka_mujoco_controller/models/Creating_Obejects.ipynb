{
 "cells": [
  {
   "cell_type": "code",
   "execution_count": 1,
   "id": "39441650",
   "metadata": {},
   "outputs": [],
   "source": [
    "import mujoco\n",
    "import os\n",
    "from mujoco import viewer\n",
    "import re"
   ]
  },
  {
   "cell_type": "code",
   "execution_count": 2,
   "id": "84612736",
   "metadata": {},
   "outputs": [],
   "source": [
    "# Get the absolute path to your FR3 model\n",
    "current_dir = os.path.abspath(os.getcwd())\n",
    "fr3_dir = os.path.join(current_dir, \"franka_fr3\")\n",
    "fr3_xml_path = os.path.join(fr3_dir, \"fr3.xml\")"
   ]
  },
  {
   "cell_type": "code",
   "execution_count": 3,
   "id": "8d0d42e1",
   "metadata": {},
   "outputs": [],
   "source": [
    "model = mujoco.MjModel.from_xml_path(fr3_xml_path)\n",
    "data = mujoco.MjData(model)"
   ]
  },
  {
   "cell_type": "code",
   "execution_count": 5,
   "id": "a4cf4e19",
   "metadata": {},
   "outputs": [
    {
     "name": "stdout",
     "output_type": "stream",
     "text": [
      "Saved model loads successfully!\n"
     ]
    }
   ],
   "source": [
    "\"\"\"\n",
    "Create a single franka model with a table and a movable box.\n",
    "\"\"\"\n",
    "\n",
    "with open(fr3_xml_path, 'r') as f:\n",
    "    fr3_xml_content = f.read()\n",
    "\n",
    "# Remove all keyframe definitions\n",
    "fr3_xml_content = re.sub(r'<keyframe.*?</keyframe>', '', fr3_xml_content, flags=re.DOTALL)\n",
    "\n",
    "# Modify the XML to add table and box\n",
    "if '</worldbody>' in fr3_xml_content:\n",
    "    modified_xml = fr3_xml_content.replace('</worldbody>', '''\n",
    "    <!-- Table -->\n",
    "    <body name=\"table\" pos=\"0.5 0.5 -0.05\">\n",
    "        <geom name=\"tabletop\" type=\"box\" size=\"0.7 0.7 0.05\" rgba=\"0.8 0.8 0.8 1\" mass=\"10\"/>\n",
    "        <geom name=\"leg1\" type=\"box\" pos=\"0.55 0.55 -0.4\" size=\"0.025 0.025 0.4\" rgba=\"0.8 0.8 0.8 1\" mass=\"1\"/>\n",
    "        <geom name=\"leg2\" type=\"box\" pos=\"0.55 -0.55 -0.4\" size=\"0.025 0.025 0.4\" rgba=\"0.8 0.8 0.8 1\" mass=\"1\"/>\n",
    "        <geom name=\"leg3\" type=\"box\" pos=\"-0.55 0.55 -0.4\" size=\"0.025 0.025 0.4\" rgba=\"0.8 0.8 0.8 1\" mass=\"1\"/>\n",
    "        <geom name=\"leg4\" type=\"box\" pos=\"-0.55 -0.55 -0.4\" size=\"0.025 0.025 0.4\" rgba=\"0.8 0.8 0.8 1\" mass=\"1\"/>\n",
    "    </body>\n",
    "    \n",
    "    <!-- Movable Box - with freejoint for full 6DOF movement (including XYZ translation) -->\n",
    "    <body name=\"box\" pos=\"0.7 0 0.1\">\n",
    "        <freejoint name=\"box_freejoint\"/>\n",
    "        <geom name=\"box_geom\" type=\"box\" size=\"0.05 0.05 0.05\" rgba=\"0.5 1 0.8 1\"/>\n",
    "        <inertial pos=\"0 0 0\" mass=\"3\" diaginertia=\"0.001 0.001 0.001\"/>\n",
    "    </body>\n",
    "</worldbody>''')\n",
    "\n",
    "    save_file_path = os.path.join(fr3_dir, \"fr3_with_moveable_box.xml\")\n",
    "    \n",
    "    # Save the modified XML permanently\n",
    "    with open(save_file_path, 'w') as f:\n",
    "        f.write(modified_xml)\n",
    "    \n",
    "    # Test load the saved model\n",
    "    model = mujoco.MjModel.from_xml_path(save_file_path)\n",
    "    data = mujoco.MjData(model)\n",
    "    print(\"Saved model loads successfully!\")"
   ]
  },
  {
   "cell_type": "code",
   "execution_count": 5,
   "id": "423a3339",
   "metadata": {},
   "outputs": [
    {
     "name": "stdout",
     "output_type": "stream",
     "text": [
      "Creating dual FR3 scene using copy and translate approach...\n",
      "Model created and saved successfully\n"
     ]
    }
   ],
   "source": [
    "\"\"\"\n",
    "Create a dual FR3 scene by copying the original FR3 model and translating the second robot.\n",
    "\"\"\"\n",
    "\n",
    "def dual_fr3(fr3_xml_path, save_dir):\n",
    "    \"\"\"\n",
    "    copy the original FR3 XML, rename elements for two robots, and translate the second robot.\n",
    "    \"\"\"\n",
    "    \n",
    "    # Read the original FR3 XML file\n",
    "    with open(fr3_xml_path, 'r') as f:\n",
    "        original_xml = f.read()\n",
    "    \n",
    "    # Remove keyframes to avoid conflicts\n",
    "    # Keyframes in Mujoco define predefined positions for joints\n",
    "    # Like \"home position\" or \"initial position\"\n",
    "    # when duplicating robots, we need to remove these to avoid conflicts\n",
    "    xml_content = re.sub(r'<keyframe.*?</keyframe>', '', original_xml, flags=re.DOTALL)\n",
    "    \n",
    "    # Find the worldbody section\n",
    "    worldbody_pattern = r'(<worldbody[^>]*>)(.*?)(</worldbody>)'\n",
    "    worldbody_match = re.search(worldbody_pattern, xml_content, re.DOTALL)\n",
    "    \n",
    "    worldbody_start = worldbody_match.group(1)  # <worldbody>\n",
    "    worldbody_content = worldbody_match.group(2)  # content inside\n",
    "    worldbody_end = worldbody_match.group(3)    # </worldbody>\n",
    "    \n",
    "    # Rename first robot elements\n",
    "    first_robot_content = worldbody_content\n",
    "    first_robot_content = re.sub(r'name=\"([^\"]*)\"', r'name=\"\\1_robot1\"', first_robot_content)\n",
    "    first_robot_content = re.sub(r'joint=\"([^\"]*)\"', r'joint=\"\\1_robot1\"', first_robot_content)\n",
    "    \n",
    "    # Create second robot by copying and renaming\n",
    "    second_robot_content = worldbody_content\n",
    "    \n",
    "    # Rename all elements for second robot\n",
    "    second_robot_content = re.sub(r'name=\"([^\"]*)\"', r'name=\"\\1_robot2\"', second_robot_content)\n",
    "    second_robot_content = re.sub(r'joint=\"([^\"]*)\"', r'joint=\"\\1_robot2\"', second_robot_content)\n",
    "    \n",
    "    # Wrap second robot in a translated body\n",
    "    translated_robot = f'''\n",
    "    <!-- Second FR3 Robot (translated) -->\n",
    "    <body name=\"robot2_base\" pos=\"0 1 0\">\n",
    "{second_robot_content}\n",
    "    </body>'''\n",
    "    \n",
    "    # Create the new worldbody with both robots\n",
    "    new_worldbody_content = f'''{worldbody_start}  \n",
    "    <!-- First FR3 Robot (renamed) -->\n",
    "{first_robot_content}\n",
    "{translated_robot}\n",
    "    \n",
    "    <!-- Table-->\n",
    "    <body name=\"table\" pos=\"0.5 0.5 -0.05\">\n",
    "        <geom name=\"table_surface\" type=\"box\" size=\"1 1 0.05\" rgba=\"0.7 0.7 0.7 1\" mass=\"3\"/>\n",
    "    </body>\n",
    "    \n",
    "    <!-- Movable object -->\n",
    "    <body name=\"box\" pos=\"0.5 0 0.1\">\n",
    "        <freejoint name=\"object_joint\"/>\n",
    "        <geom name=\"object_geom\" type=\"box\" size=\"0.05 0.05 0.05\" rgba=\"0.5 0.2 0.2 1\"/>\n",
    "        <inertial pos=\"0 0 0\" mass=\"1\" diaginertia=\"0.0001 0.0001 0.0001\"/>\n",
    "    </body>\n",
    "    \n",
    "    <!-- Movable object -->\n",
    "    <body name=\"box_2\" pos=\"0.5 1 0.1\">\n",
    "        <freejoint name=\"object_joint_2\"/>\n",
    "        <geom name=\"object_geom_2\" type=\"box\" size=\"0.05 0.05 0.05\" rgba=\"0.5 0.5 0.2 1\"/>\n",
    "        <inertial pos=\"0 0 0\" mass=\"1\" diaginertia=\"0.0001 0.0001 0.0001\"/>\n",
    "    </body>\n",
    "    \n",
    "{worldbody_end}'''\n",
    "    \n",
    "    # Handle actuators - copy and rename for second robot\n",
    "    actuator_pattern = r'(<actuator[^>]*>)(.*?)(</actuator>)'\n",
    "    actuator_match = re.search(actuator_pattern, xml_content, re.DOTALL)\n",
    "    \n",
    "    if actuator_match:\n",
    "        actuator_start = actuator_match.group(1)\n",
    "        actuator_content = actuator_match.group(2)\n",
    "        actuator_end = actuator_match.group(3)\n",
    "        \n",
    "        # Create renamed actuators for first robot\n",
    "        first_actuators = re.sub(r'joint=\"([^\"]*)\"', r'joint=\"\\1_robot1\"', actuator_content)\n",
    "        first_actuators = re.sub(r'name=\"([^\"]*)\"', r'name=\"\\1_robot1\"', first_actuators)\n",
    "        \n",
    "        # Create second set of actuators\n",
    "        second_actuators = re.sub(r'joint=\"([^\"]*)\"', r'joint=\"\\1_robot2\"', actuator_content)\n",
    "        second_actuators = re.sub(r'name=\"([^\"]*)\"', r'name=\"\\1_robot2\"', second_actuators)\n",
    "        \n",
    "        new_actuator_section = f'''{actuator_start}\n",
    "    <!-- First robot actuators -->\n",
    "{first_actuators}\n",
    "    \n",
    "    <!-- Second robot actuators -->\n",
    "{second_actuators}\n",
    "{actuator_end}'''\n",
    "        \n",
    "        # Replace actuator section in xml\n",
    "        xml_content = re.sub(actuator_pattern, new_actuator_section, xml_content, flags=re.DOTALL)\n",
    "    \n",
    "    # Replace worldbody in the complete XML\n",
    "    final_xml = re.sub(worldbody_pattern, new_worldbody_content, xml_content, flags=re.DOTALL)\n",
    "    \n",
    "    # Update model name\n",
    "    final_xml = re.sub(r'model=\"[^\"]*\"', 'model=\"dual_fr3_scene\"', final_xml)\n",
    "    \n",
    "    # Save the result\n",
    "    save_path = os.path.join(save_dir, \"dual_fr3.xml\")\n",
    "    \n",
    "    with open(save_path, 'w') as f:\n",
    "        f.write(final_xml)\n",
    "    \n",
    "    return save_path, model, data\n",
    "\n",
    "# Main execution\n",
    "if __name__ == \"__main__\":\n",
    "    \n",
    "    print(\"Creating dual FR3 scene using copy and translate approach...\")\n",
    "    save_path, model, data = dual_fr3(fr3_xml_path, fr3_dir)\n",
    "    \n",
    "    ## Test scene loading\n",
    "    model = mujoco.MjModel.from_xml_path(save_path)\n",
    "    data = mujoco.MjData(model)\n",
    "    print(\"Model created and saved successfully\")"
   ]
  },
  {
   "cell_type": "code",
   "execution_count": null,
   "id": "ca569d33",
   "metadata": {},
   "outputs": [
    {
     "name": "stderr",
     "output_type": "stream",
     "text": [
      "/home/kai/.local/lib/python3.10/site-packages/glfw/__init__.py:917: GLFWError: (65548) b'Wayland: The platform does not provide the window position'\n",
      "  warnings.warn(message, GLFWError)\n"
     ]
    },
    {
     "ename": "",
     "evalue": "",
     "output_type": "error",
     "traceback": [
      "\u001b[1;31mThe Kernel crashed while executing code in the current cell or a previous cell. \n",
      "\u001b[1;31mPlease review the code in the cell(s) to identify a possible cause of the failure. \n",
      "\u001b[1;31mClick <a href='https://aka.ms/vscodeJupyterKernelCrash'>here</a> for more info. \n",
      "\u001b[1;31mView Jupyter <a href='command:jupyter.viewOutput'>log</a> for further details."
     ]
    }
   ],
   "source": [
    "# Create a viewer and visualize the model\n",
    "viewer.launch(model, data)"
   ]
  }
 ],
 "metadata": {
  "kernelspec": {
   "display_name": "master_thesis",
   "language": "python",
   "name": "python3"
  },
  "language_info": {
   "codemirror_mode": {
    "name": "ipython",
    "version": 3
   },
   "file_extension": ".py",
   "mimetype": "text/x-python",
   "name": "python",
   "nbconvert_exporter": "python",
   "pygments_lexer": "ipython3",
   "version": "3.10.16"
  }
 },
 "nbformat": 4,
 "nbformat_minor": 5
}
