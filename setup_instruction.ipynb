{
 "cells": [
  {
   "cell_type": "markdown",
   "id": "548b088d",
   "metadata": {},
   "source": [
    "## Core Purpose\n",
    "* Package Definition: Specifies package metadata including name, version, maintainer information, and dependencies required for the package to function properly.\n",
    "* Installation Configuration: Defines which files should be installed where in the system, including Python modules, resource files, and configuration files.\n",
    "* Executable Entry Points: Maps command-line executables to Python functions, allowing users to run your nodes with simple commands like ros2 run package_name executable_name."
   ]
  },
  {
   "cell_type": "markdown",
   "id": "25de58a1",
   "metadata": {},
   "source": [
    "```\n",
    "from setuptools import setup, find_packages\n",
    "\n",
    "package_name = 'rl_remote_controller'\n",
    "\n",
    "setup(\n",
    "    name=package_name,\n",
    "    version='0.0.1',\n",
    "    packages=find_packages(exclude=['test']),\n",
    "    data_files=[\n",
    "        ('share/ament_index/resource_index/packages',\n",
    "            ['resource/' + package_name]),\n",
    "        ('share/' + package_name, ['package.xml']),\n",
    "    ],\n",
    "    install_requires=['setuptools'],\n",
    "    zip_safe=True,\n",
    "    maintainer='kai',\n",
    "    maintainer_email='kai@example.com',\n",
    "    description='RL-based adaptive PD control for teleoperation',\n",
    "    license='MIT',\n",
    "    tests_require=['pytest'],\n",
    "    entry_points={\n",
    "        'console_scripts': [\n",
    "\n",
    "            'local = rl_remote_controller.local:main',\n",
    "            'rl_remote = rl_remote_controller.rl_remote:main', \n",
    "            'rl_training = rl_remote_controller.rl_training:main',\n",
    "        ],\n",
    "    },\n",
    ")\n",
    "```"
   ]
  }
 ],
 "metadata": {
  "language_info": {
   "name": "python"
  }
 },
 "nbformat": 4,
 "nbformat_minor": 5
}
