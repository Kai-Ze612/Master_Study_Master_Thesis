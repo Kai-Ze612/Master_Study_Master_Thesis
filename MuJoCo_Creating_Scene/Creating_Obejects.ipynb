{
 "cells": [
  {
   "cell_type": "code",
   "execution_count": 1,
   "id": "39441650",
   "metadata": {},
   "outputs": [],
   "source": [
    "import mujoco\n",
    "import numpy as np\n",
    "import time\n",
    "import tempfile\n",
    "import os\n",
    "from pathlib import Path\n",
    "from mujoco import viewer\n",
    "import shutil\n",
    "import re"
   ]
  },
  {
   "cell_type": "code",
   "execution_count": 2,
   "id": "84612736",
   "metadata": {},
   "outputs": [],
   "source": [
    "# Get the absolute path to your FR3 model\n",
    "current_dir = os.path.abspath(os.getcwd())\n",
    "fr3_dir = os.path.join(current_dir, \"FR3_MuJoCo/franka_fr3\")\n",
    "fr3_xml_path = os.path.join(fr3_dir, \"fr3.xml\")"
   ]
  },
  {
   "cell_type": "code",
   "execution_count": 3,
   "id": "8d0d42e1",
   "metadata": {},
   "outputs": [],
   "source": [
    "model = mujoco.MjModel.from_xml_path(fr3_xml_path)\n",
    "data = mujoco.MjData(model)"
   ]
  },
  {
   "cell_type": "code",
   "execution_count": 4,
   "id": "7e51c763",
   "metadata": {},
   "outputs": [],
   "source": [
    "save_dir = \"FR3_MuJoCo/franka_fr3\"\n",
    "scene_xml_path = os.path.join(save_dir, \"franka_with_table.xml\")"
   ]
  },
  {
   "cell_type": "code",
   "execution_count": 5,
   "id": "a4cf4e19",
   "metadata": {},
   "outputs": [
    {
     "name": "stdout",
     "output_type": "stream",
     "text": [
      "Saved model loads successfully!\n"
     ]
    }
   ],
   "source": [
    "fr3_xml_path = os.path.join(fr3_dir, \"fr3.xml\")\n",
    "with open(fr3_xml_path, 'r') as f:\n",
    "    fr3_xml_content = f.read()\n",
    "\n",
    "# Remove all keyframe definitions\n",
    "fr3_xml_content = re.sub(r'<keyframe.*?</keyframe>', '', fr3_xml_content, flags=re.DOTALL)\n",
    "\n",
    "# Modify the XML to add table and box\n",
    "if '</worldbody>' in fr3_xml_content:\n",
    "    modified_xml = fr3_xml_content.replace('</worldbody>', '''\n",
    "    <!-- Table -->\n",
    "    <body name=\"table\" pos=\"0.5 0.5 -0.05\">\n",
    "        <geom name=\"tabletop\" type=\"box\" size=\"0.7 0.7 0.05\" rgba=\"0.8 0.8 0.8 1\" mass=\"10\"/>\n",
    "        <geom name=\"leg1\" type=\"box\" pos=\"0.55 0.55 -0.4\" size=\"0.025 0.025 0.4\" rgba=\"0.8 0.8 0.8 1\" mass=\"1\"/>\n",
    "        <geom name=\"leg2\" type=\"box\" pos=\"0.55 -0.55 -0.4\" size=\"0.025 0.025 0.4\" rgba=\"0.8 0.8 0.8 1\" mass=\"1\"/>\n",
    "        <geom name=\"leg3\" type=\"box\" pos=\"-0.55 0.55 -0.4\" size=\"0.025 0.025 0.4\" rgba=\"0.8 0.8 0.8 1\" mass=\"1\"/>\n",
    "        <geom name=\"leg4\" type=\"box\" pos=\"-0.55 -0.55 -0.4\" size=\"0.025 0.025 0.4\" rgba=\"0.8 0.8 0.8 1\" mass=\"1\"/>\n",
    "    </body>\n",
    "    \n",
    "    <!-- Movable Box - with freejoint for full 6DOF movement (including XYZ translation) -->\n",
    "    <body name=\"box\" pos=\"0.5 0 0.05\">\n",
    "        <freejoint name=\"box_freejoint\"/>\n",
    "        <geom name=\"box_geom\" type=\"box\" size=\"0.05 0.05 0.05\" rgba=\"0.5 1 0.8 1\"/>\n",
    "        <inertial pos=\"0 0 0\" mass=\"3\" diaginertia=\"0.001 0.001 0.001\"/>\n",
    "    </body>\n",
    "</worldbody>''')\n",
    "    \n",
    "    save_file_path = os.path.join(save_dir, \"fr3_with_moveable_box.xml\")\n",
    "    \n",
    "    # Save the modified XML permanently\n",
    "    with open(save_file_path, 'w') as f:\n",
    "        f.write(modified_xml)\n",
    "    \n",
    "    # Test load the saved model\n",
    "    model = mujoco.MjModel.from_xml_path(save_file_path)\n",
    "    data = mujoco.MjData(model)\n",
    "    print(\"Saved model loads successfully!\")\n"
   ]
  },
  {
   "cell_type": "code",
   "execution_count": null,
   "id": "ca569d33",
   "metadata": {},
   "outputs": [
    {
     "name": "stderr",
     "output_type": "stream",
     "text": [
      "/home/kai/.local/lib/python3.10/site-packages/glfw/__init__.py:917: GLFWError: (65548) b'Wayland: The platform does not provide the window position'\n",
      "  warnings.warn(message, GLFWError)\n"
     ]
    },
    {
     "ename": "",
     "evalue": "",
     "output_type": "error",
     "traceback": [
      "\u001b[1;31mThe Kernel crashed while executing code in the current cell or a previous cell. \n",
      "\u001b[1;31mPlease review the code in the cell(s) to identify a possible cause of the failure. \n",
      "\u001b[1;31mClick <a href='https://aka.ms/vscodeJupyterKernelCrash'>here</a> for more info. \n",
      "\u001b[1;31mView Jupyter <a href='command:jupyter.viewOutput'>log</a> for further details."
     ]
    }
   ],
   "source": [
    "# Create a viewer and visualize the model\n",
    "viewer.launch(model, data)"
   ]
  }
 ],
 "metadata": {
  "kernelspec": {
   "display_name": "master_thesis",
   "language": "python",
   "name": "python3"
  },
  "language_info": {
   "codemirror_mode": {
    "name": "ipython",
    "version": 3
   },
   "file_extension": ".py",
   "mimetype": "text/x-python",
   "name": "python",
   "nbconvert_exporter": "python",
   "pygments_lexer": "ipython3",
   "version": "3.10.16"
  }
 },
 "nbformat": 4,
 "nbformat_minor": 5
}
