{
 "cells": [
  {
   "cell_type": "markdown",
   "id": "9036a9a0",
   "metadata": {},
   "source": [
    "## ROS launch\n",
    "ROS launch is a Python script that defines how to start and coordinate multiple nodes, processes, and parameters in a robotics system. Using ROS launch can avoid using multiple terminal windows and manually starting each node individually.\n",
    "\n",
    "ROS2 launch file is typically written in Python file and use the `launch` package API to define the system configuration."
   ]
  },
  {
   "cell_type": "markdown",
   "id": "08721468",
   "metadata": {},
   "source": [
    "```\n",
    "from launch import LaunchDescription\n",
    "from launch.actions import ExecuteProcess, TimerAction\n",
    "\n",
    "def launch():\n",
    "    \"\"\"\n",
    "    Launch file that explicitly uses bash (not sh) and proper syntax\n",
    "    \"\"\"\n",
    "   \n",
    "    return LaunchDescription([\n",
    "        # Start controller with explicit bash shell\n",
    "        TimerAction(\n",
    "            ## Add a time delay before starting the controller\n",
    "            period=2.0,\n",
    "            \n",
    "            ## add series of actions to be excuted\n",
    "            actions=[\n",
    "                ExecuteProcess(\n",
    "                    cmd=[\n",
    "                        '/bin/bash',\n",
    "                        '-c',\n",
    "                        'cd /media/kai/Kai_Backup/Master_Study/Master_Thesis/Master_Study_Master_Thesis && '\n",
    "                        'source setup_environment.sh && '\n",
    "                        'echo \"Environment loaded successfully\" && '\n",
    "                        'ros2 run franka_mujoco_controller mujoco_controller'\n",
    "                    ],\n",
    "                    ## Give process name\n",
    "                    name='mujoco_controller',\n",
    "\t\t\t\t    ## Give the output on the terminal\n",
    "                    output='screen'\n",
    "                    # Remove shell=True to avoid shell interpretation issues\n",
    "                )\n",
    "            ]\n",
    "        ),\n",
    "        \n",
    "        # Send start command\n",
    "        TimerAction(\n",
    "            period=5.0,\n",
    "            actions=[\n",
    "                ExecuteProcess(\n",
    "                    cmd=[\n",
    "                        'ros2', 'topic', 'pub', '--once',\n",
    "                        '/start_push', 'std_msgs/msg/String',\n",
    "                        '{data: start}'  # Fixed quotes\n",
    "                    ],\n",
    "                    name='start_command',\n",
    "                    output='screen'\n",
    "                )\n",
    "            ]\n",
    "        )\n",
    "    ])\n",
    "```"
   ]
  },
  {
   "cell_type": "markdown",
   "id": "1a187693",
   "metadata": {},
   "source": [
    "## Cmake.txt\n",
    "After launch.py, we need an cmake.txt file to find launch file by package name\n",
    "\n",
    "```\n",
    "# Install launch files so they can be found by package name\n",
    "install(DIRECTORY launch DESTINATION share/${PROJECT_NAME} )\n",
    "```"
   ]
  }
 ],
 "metadata": {
  "language_info": {
   "name": "python"
  }
 },
 "nbformat": 4,
 "nbformat_minor": 5
}
