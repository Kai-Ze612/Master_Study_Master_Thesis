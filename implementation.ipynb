{
 "cells": [
  {
   "cell_type": "markdown",
   "id": "358ecef8",
   "metadata": {},
   "source": [
    "## How to Run\n",
    "\n",
    "\n",
    "Set up the environment\n",
    "```bash\n",
    "cd /media/kai/Kai_Backup/Master_Study/Master_Thesis/Master_Study_Master_Thesis\n",
    "source setup_environment.sh\n",
    "```\n",
    "\n",
    "Direct to the folder\n",
    "```bash\n",
    "cd /media/kai/Kai_Backup/Master_Study/Practical_Project/Practical_Courses/Master_Thesis/Master_Study_Master_Thesis/fr3_mujoco_ws\n",
    "```\n",
    "\n",
    "Build the project  \n",
    "```bash\n",
    "colcon build --packages-select package_name\n",
    "```\n",
    "\n",
    "ROS2 Workspace Setup Script\n",
    "```bash\n",
    "source install/setup.bash\n",
    "```\n",
    "\n",
    "ROS2 Launch\n",
    "```bash\n",
    "ros2 launch franka_mujoco_controller position_control.launch.py\n",
    "```\n",
    "start idel status (include in launch.py file)\n",
    "```bash\n",
    "ros2 topic pub /start_push std_msgs/msg/String \"{data: 'start'}\"\n",
    "```\n",
    "\n",
    "Open another terminal\n",
    "\n",
    "```bash\n",
    "ros2 topic pub --once /cartesian_position_commands geometry_msgs/msg/Point \"{x: 0.5, y: 0.2, z: 0.3}\"\n",
    "```\n",
    "\n",
    "```bash\n",
    "ros2 topic pub --once /local_robot/cartesian_commands geometry_msgs/msg/Point \"{x: 0.5, y: 0.2, z: 0.3}\"\n",
    "```\n",
    "\n",
    "```bash\n",
    "ros2 topic pub [OPTIONS] <topic_name> <message_type> <message_data>\n",
    "```\n"
   ]
  }
 ],
 "metadata": {
  "language_info": {
   "name": "python"
  }
 },
 "nbformat": 4,
 "nbformat_minor": 5
}
