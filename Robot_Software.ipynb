{
 "cells": [
  {
   "cell_type": "markdown",
   "id": "b0baa573",
   "metadata": {},
   "source": [
    "## Simulation\n",
    "- **MuJoCo**: Physics engine with excellent contact dynamics, optimized for research and reinforcement learning\n",
    "- **Gazebo**: Comprehensive simulation environment with sensor simulation, tightly integrated with ROS\n",
    "- **Isaac**: GPU accelerator simulation\n",
    "\n",
    "## Motion Planning\n",
    "- **MoveIt**: Complete motion planning framework with manipulation capabilities, collision avoidance, and ROS integration\n",
    "- **PyBullet**: Physics simulator with integrated motion planning capabilities, Python-native and good for ML integration\n",
    "\n",
    "## Control\n",
    "- **ROS2**: Modern robotics middleware providing the communication infrastructure, tools, and ecosystem to build complete robot systems\n",
    "\n",
    "## RL simulation\n",
    "* **Gymnasium**\n",
    "\n",
    "## Language\n",
    "* **CPP**"
   ]
  }
 ],
 "metadata": {
  "language_info": {
   "name": "python"
  }
 },
 "nbformat": 4,
 "nbformat_minor": 5
}
